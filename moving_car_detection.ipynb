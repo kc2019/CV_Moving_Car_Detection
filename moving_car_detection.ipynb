{
 "cells": [
  {
   "cell_type": "code",
   "execution_count": 6,
   "metadata": {},
   "outputs": [],
   "source": [
    "import time\n",
    "import numpy as np\n",
    "import cv2"
   ]
  },
  {
   "cell_type": "code",
   "execution_count": 7,
   "metadata": {},
   "outputs": [],
   "source": [
    "#cap = cv2.VideoCapture(0)\n",
    "#cap.isOpened()\n",
    "#cv2.getBuildInformation() --> here i can see ffmpeg is marked as 'YES'\n",
    "# NOTE : FFmpeg. A complete, cross-platform solution to record, convert and stream audio and video."
   ]
  },
  {
   "cell_type": "code",
   "execution_count": 8,
   "metadata": {},
   "outputs": [],
   "source": [
    "# Create our body classifier\n",
    "car_cascade = cv2.CascadeClassifier('D:\\KUNTAL\\Python\\python_notes\\Computer Vision\\Image_Processing\\haarcascade_car.xml')"
   ]
  },
  {
   "cell_type": "code",
   "execution_count": 9,
   "metadata": {},
   "outputs": [
    {
     "name": "stdout",
     "output_type": "stream",
     "text": [
      "True\n"
     ]
    }
   ],
   "source": [
    "# Initiate video capture for video file\n",
    "# NOTE :  try typing r'<file path>' to cause the path to be read as raw text and have the unicode escapes ignored\n",
    "cap = cv2.VideoCapture(r'D:\\KUNTAL\\Python\\python_notes\\Computer Vision\\Image_Processing\\video\\cars.mp4')\n",
    "print(cap.isOpened())   # True = read video successfully. False - fail to read video.\n"
   ]
  },
  {
   "cell_type": "code",
   "execution_count": 10,
   "metadata": {},
   "outputs": [],
   "source": [
    "# loop runs if capturing has been initialized. \n",
    "while True: \n",
    "    # reads frames from a video \n",
    "    ret, frames = cap.read() \n",
    "    \n",
    "    # convert to gray scale of each frames \n",
    "    gray = cv2.cvtColor(frames, cv2.COLOR_BGR2GRAY) \n",
    "    \n",
    "    # Detects cars of different sizes in the input image \n",
    "    cars = car_cascade.detectMultiScale(gray, 1.1, 1)\n",
    "    \n",
    "    #To draw a rectangle on object/image. parameters are below :\n",
    "    # https://www.meccanismocomplesso.org/en/opencv-python-drawing-shapes-and-text-on-images/\n",
    "    #image object on which to draw\n",
    "    #coordinates of the vertex at the top left (x, y)\n",
    "    #coordinates of the lower right vertex (x, y)\n",
    "    #stroke color in BGR (not RGB, be careful)\n",
    "    #stroke thickness  (in pixels)\n",
    "    \n",
    "    # To draw a rectangle in each cars \n",
    "    for (x,y,w,h) in cars:\n",
    "        #print('x% y% w% %h'.format(x,y,w,h))\n",
    "        #cv2.rectangle(frames,(x,y),(x+w,y+h),(0,0,255),2)\n",
    "        cv2.rectangle(frames,(x,y),(x+w,y+h),(0,255,0),2) # RGB - green rectangle \n",
    "        #put label on top ofrectangle\n",
    "        #cv2.putText(frames, \"CAR\", Point(x, y), FONT_HERSHEY_PLAIN, 1.0, CV_RGB(0,255,0), 2.0);\n",
    "        #You can use cv2.putText() to overlay text information on top of a rectangle. \n",
    "         #xample, you can grab the contour coordinates, draw a rectangle, \n",
    "        # put text on top of it by shifting it upwards.\n",
    "        cv2.putText(frames, 'CAR',(x, y), cv2.FONT_HERSHEY_PLAIN, 1.0, (0,255,0), 3);\n",
    "         \n",
    "        \n",
    "        \n",
    "    # Display frames in a window  \n",
    "    cv2.imshow('Moving Car Detection', frames)\n",
    "    \n",
    "    # Wait for Esc key to stop \n",
    "    if cv2.waitKey(33) == 27: \n",
    "        break\n",
    "\n",
    "# De-allocate any associated memory usage \n",
    "cv2.destroyAllWindows() \n",
    "   "
   ]
  },
  {
   "cell_type": "code",
   "execution_count": null,
   "metadata": {},
   "outputs": [],
   "source": []
  },
  {
   "cell_type": "code",
   "execution_count": null,
   "metadata": {},
   "outputs": [],
   "source": []
  }
 ],
 "metadata": {
  "kernelspec": {
   "display_name": "Python 3",
   "language": "python",
   "name": "python3"
  },
  "language_info": {
   "codemirror_mode": {
    "name": "ipython",
    "version": 3
   },
   "file_extension": ".py",
   "mimetype": "text/x-python",
   "name": "python",
   "nbconvert_exporter": "python",
   "pygments_lexer": "ipython3",
   "version": "3.7.4"
  }
 },
 "nbformat": 4,
 "nbformat_minor": 2
}
